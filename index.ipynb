{
 "cells": [
  {
   "cell_type": "code",
   "execution_count": 8,
   "id": "5512dc8e-f981-44f3-bb51-8d1620238dcb",
   "metadata": {},
   "outputs": [
    {
     "name": "stdout",
     "output_type": "stream",
     "text": [
      "Requirement already satisfied: geopandas in c:\\users\\ruizd\\anaconda3\\envs\\asies\\lib\\site-packages (1.0.1)\n",
      "Requirement already satisfied: numpy>=1.22 in c:\\users\\ruizd\\anaconda3\\envs\\asies\\lib\\site-packages (from geopandas) (2.1.1)\n",
      "Requirement already satisfied: pyogrio>=0.7.2 in c:\\users\\ruizd\\anaconda3\\envs\\asies\\lib\\site-packages (from geopandas) (0.9.0)\n",
      "Requirement already satisfied: packaging in c:\\users\\ruizd\\anaconda3\\envs\\asies\\lib\\site-packages (from geopandas) (24.1)\n",
      "Requirement already satisfied: pandas>=1.4.0 in c:\\users\\ruizd\\anaconda3\\envs\\asies\\lib\\site-packages (from geopandas) (2.2.2)\n",
      "Requirement already satisfied: pyproj>=3.3.0 in c:\\users\\ruizd\\anaconda3\\envs\\asies\\lib\\site-packages (from geopandas) (3.6.1)\n",
      "Requirement already satisfied: shapely>=2.0.0 in c:\\users\\ruizd\\anaconda3\\envs\\asies\\lib\\site-packages (from geopandas) (2.0.6)\n",
      "Requirement already satisfied: python-dateutil>=2.8.2 in c:\\users\\ruizd\\anaconda3\\envs\\asies\\lib\\site-packages (from pandas>=1.4.0->geopandas) (2.9.0.post0)\n",
      "Requirement already satisfied: pytz>=2020.1 in c:\\users\\ruizd\\anaconda3\\envs\\asies\\lib\\site-packages (from pandas>=1.4.0->geopandas) (2024.1)\n",
      "Requirement already satisfied: tzdata>=2022.7 in c:\\users\\ruizd\\anaconda3\\envs\\asies\\lib\\site-packages (from pandas>=1.4.0->geopandas) (2024.1)\n",
      "Requirement already satisfied: certifi in c:\\users\\ruizd\\anaconda3\\envs\\asies\\lib\\site-packages (from pyogrio>=0.7.2->geopandas) (2024.8.30)\n",
      "Requirement already satisfied: six>=1.5 in c:\\users\\ruizd\\anaconda3\\envs\\asies\\lib\\site-packages (from python-dateutil>=2.8.2->pandas>=1.4.0->geopandas) (1.16.0)\n"
     ]
    },
    {
     "ename": "DataSourceError",
     "evalue": "maps\\World_Countries\\World_Countries.shp: No such file or directory",
     "output_type": "error",
     "traceback": [
      "\u001b[1;31m---------------------------------------------------------------------------\u001b[0m",
      "\u001b[1;31mDataSourceError\u001b[0m                           Traceback (most recent call last)",
      "Cell \u001b[1;32mIn[8], line 5\u001b[0m\n\u001b[0;32m      2\u001b[0m get_ipython()\u001b[38;5;241m.\u001b[39msystem(\u001b[38;5;124m'\u001b[39m\u001b[38;5;124mpip install geopandas\u001b[39m\u001b[38;5;124m'\u001b[39m)\n\u001b[0;32m      3\u001b[0m \u001b[38;5;28;01mimport\u001b[39;00m \u001b[38;5;21;01mos\u001b[39;00m\u001b[38;5;241m,\u001b[39m \u001b[38;5;21;01mgeopandas\u001b[39;00m \u001b[38;5;28;01mas\u001b[39;00m \u001b[38;5;21;01mgpd\u001b[39;00m\n\u001b[1;32m----> 5\u001b[0m countries\u001b[38;5;241m=\u001b[39mgpd\u001b[38;5;241m.\u001b[39mread_file(os\u001b[38;5;241m.\u001b[39mpath\u001b[38;5;241m.\u001b[39mjoin(\u001b[38;5;124m\"\u001b[39m\u001b[38;5;124mmaps\u001b[39m\u001b[38;5;124m\"\u001b[39m,\u001b[38;5;124m\"\u001b[39m\u001b[38;5;124mWorld_Countries\u001b[39m\u001b[38;5;124m\"\u001b[39m,\u001b[38;5;124m\"\u001b[39m\u001b[38;5;124mWorld_Countries.shp\u001b[39m\u001b[38;5;124m\"\u001b[39m))\n",
      "File \u001b[1;32m~\\anaconda3\\envs\\ASIES\\Lib\\site-packages\\geopandas\\io\\file.py:294\u001b[0m, in \u001b[0;36m_read_file\u001b[1;34m(filename, bbox, mask, columns, rows, engine, **kwargs)\u001b[0m\n\u001b[0;32m    291\u001b[0m             from_bytes \u001b[38;5;241m=\u001b[39m \u001b[38;5;28;01mTrue\u001b[39;00m\n\u001b[0;32m    293\u001b[0m \u001b[38;5;28;01mif\u001b[39;00m engine \u001b[38;5;241m==\u001b[39m \u001b[38;5;124m\"\u001b[39m\u001b[38;5;124mpyogrio\u001b[39m\u001b[38;5;124m\"\u001b[39m:\n\u001b[1;32m--> 294\u001b[0m     \u001b[38;5;28;01mreturn\u001b[39;00m _read_file_pyogrio(\n\u001b[0;32m    295\u001b[0m         filename, bbox\u001b[38;5;241m=\u001b[39mbbox, mask\u001b[38;5;241m=\u001b[39mmask, columns\u001b[38;5;241m=\u001b[39mcolumns, rows\u001b[38;5;241m=\u001b[39mrows, \u001b[38;5;241m*\u001b[39m\u001b[38;5;241m*\u001b[39mkwargs\n\u001b[0;32m    296\u001b[0m     )\n\u001b[0;32m    298\u001b[0m \u001b[38;5;28;01melif\u001b[39;00m engine \u001b[38;5;241m==\u001b[39m \u001b[38;5;124m\"\u001b[39m\u001b[38;5;124mfiona\u001b[39m\u001b[38;5;124m\"\u001b[39m:\n\u001b[0;32m    299\u001b[0m     \u001b[38;5;28;01mif\u001b[39;00m pd\u001b[38;5;241m.\u001b[39mapi\u001b[38;5;241m.\u001b[39mtypes\u001b[38;5;241m.\u001b[39mis_file_like(filename):\n",
      "File \u001b[1;32m~\\anaconda3\\envs\\ASIES\\Lib\\site-packages\\geopandas\\io\\file.py:547\u001b[0m, in \u001b[0;36m_read_file_pyogrio\u001b[1;34m(path_or_bytes, bbox, mask, rows, **kwargs)\u001b[0m\n\u001b[0;32m    538\u001b[0m     warnings\u001b[38;5;241m.\u001b[39mwarn(\n\u001b[0;32m    539\u001b[0m         \u001b[38;5;124m\"\u001b[39m\u001b[38;5;124mThe \u001b[39m\u001b[38;5;124m'\u001b[39m\u001b[38;5;124minclude_fields\u001b[39m\u001b[38;5;124m'\u001b[39m\u001b[38;5;124m and \u001b[39m\u001b[38;5;124m'\u001b[39m\u001b[38;5;124mignore_fields\u001b[39m\u001b[38;5;124m'\u001b[39m\u001b[38;5;124m keywords are deprecated, and \u001b[39m\u001b[38;5;124m\"\u001b[39m\n\u001b[0;32m    540\u001b[0m         \u001b[38;5;124m\"\u001b[39m\u001b[38;5;124mwill be removed in a future release. You can use the \u001b[39m\u001b[38;5;124m'\u001b[39m\u001b[38;5;124mcolumns\u001b[39m\u001b[38;5;124m'\u001b[39m\u001b[38;5;124m keyword \u001b[39m\u001b[38;5;124m\"\u001b[39m\n\u001b[1;32m   (...)\u001b[0m\n\u001b[0;32m    543\u001b[0m         stacklevel\u001b[38;5;241m=\u001b[39m\u001b[38;5;241m3\u001b[39m,\n\u001b[0;32m    544\u001b[0m     )\n\u001b[0;32m    545\u001b[0m     kwargs[\u001b[38;5;124m\"\u001b[39m\u001b[38;5;124mcolumns\u001b[39m\u001b[38;5;124m\"\u001b[39m] \u001b[38;5;241m=\u001b[39m kwargs\u001b[38;5;241m.\u001b[39mpop(\u001b[38;5;124m\"\u001b[39m\u001b[38;5;124minclude_fields\u001b[39m\u001b[38;5;124m\"\u001b[39m)\n\u001b[1;32m--> 547\u001b[0m \u001b[38;5;28;01mreturn\u001b[39;00m pyogrio\u001b[38;5;241m.\u001b[39mread_dataframe(path_or_bytes, bbox\u001b[38;5;241m=\u001b[39mbbox, \u001b[38;5;241m*\u001b[39m\u001b[38;5;241m*\u001b[39mkwargs)\n",
      "File \u001b[1;32m~\\anaconda3\\envs\\ASIES\\Lib\\site-packages\\pyogrio\\geopandas.py:261\u001b[0m, in \u001b[0;36mread_dataframe\u001b[1;34m(path_or_buffer, layer, encoding, columns, read_geometry, force_2d, skip_features, max_features, where, bbox, mask, fids, sql, sql_dialect, fid_as_index, use_arrow, on_invalid, arrow_to_pandas_kwargs, **kwargs)\u001b[0m\n\u001b[0;32m    256\u001b[0m \u001b[38;5;28;01mif\u001b[39;00m \u001b[38;5;129;01mnot\u001b[39;00m use_arrow:\n\u001b[0;32m    257\u001b[0m     \u001b[38;5;66;03m# For arrow, datetimes are read as is.\u001b[39;00m\n\u001b[0;32m    258\u001b[0m     \u001b[38;5;66;03m# For numpy IO, datetimes are read as string values to preserve timezone info\u001b[39;00m\n\u001b[0;32m    259\u001b[0m     \u001b[38;5;66;03m# as numpy does not directly support timezones.\u001b[39;00m\n\u001b[0;32m    260\u001b[0m     kwargs[\u001b[38;5;124m\"\u001b[39m\u001b[38;5;124mdatetime_as_string\u001b[39m\u001b[38;5;124m\"\u001b[39m] \u001b[38;5;241m=\u001b[39m \u001b[38;5;28;01mTrue\u001b[39;00m\n\u001b[1;32m--> 261\u001b[0m result \u001b[38;5;241m=\u001b[39m read_func(\n\u001b[0;32m    262\u001b[0m     path_or_buffer,\n\u001b[0;32m    263\u001b[0m     layer\u001b[38;5;241m=\u001b[39mlayer,\n\u001b[0;32m    264\u001b[0m     encoding\u001b[38;5;241m=\u001b[39mencoding,\n\u001b[0;32m    265\u001b[0m     columns\u001b[38;5;241m=\u001b[39mcolumns,\n\u001b[0;32m    266\u001b[0m     read_geometry\u001b[38;5;241m=\u001b[39mread_geometry,\n\u001b[0;32m    267\u001b[0m     force_2d\u001b[38;5;241m=\u001b[39mgdal_force_2d,\n\u001b[0;32m    268\u001b[0m     skip_features\u001b[38;5;241m=\u001b[39mskip_features,\n\u001b[0;32m    269\u001b[0m     max_features\u001b[38;5;241m=\u001b[39mmax_features,\n\u001b[0;32m    270\u001b[0m     where\u001b[38;5;241m=\u001b[39mwhere,\n\u001b[0;32m    271\u001b[0m     bbox\u001b[38;5;241m=\u001b[39mbbox,\n\u001b[0;32m    272\u001b[0m     mask\u001b[38;5;241m=\u001b[39mmask,\n\u001b[0;32m    273\u001b[0m     fids\u001b[38;5;241m=\u001b[39mfids,\n\u001b[0;32m    274\u001b[0m     sql\u001b[38;5;241m=\u001b[39msql,\n\u001b[0;32m    275\u001b[0m     sql_dialect\u001b[38;5;241m=\u001b[39msql_dialect,\n\u001b[0;32m    276\u001b[0m     return_fids\u001b[38;5;241m=\u001b[39mfid_as_index,\n\u001b[0;32m    277\u001b[0m     \u001b[38;5;241m*\u001b[39m\u001b[38;5;241m*\u001b[39mkwargs,\n\u001b[0;32m    278\u001b[0m )\n\u001b[0;32m    280\u001b[0m \u001b[38;5;28;01mif\u001b[39;00m use_arrow:\n\u001b[0;32m    281\u001b[0m     meta, table \u001b[38;5;241m=\u001b[39m result\n",
      "File \u001b[1;32m~\\anaconda3\\envs\\ASIES\\Lib\\site-packages\\pyogrio\\raw.py:196\u001b[0m, in \u001b[0;36mread\u001b[1;34m(path_or_buffer, layer, encoding, columns, read_geometry, force_2d, skip_features, max_features, where, bbox, mask, fids, sql, sql_dialect, return_fids, datetime_as_string, **kwargs)\u001b[0m\n\u001b[0;32m     56\u001b[0m \u001b[38;5;250m\u001b[39m\u001b[38;5;124;03m\"\"\"Read OGR data source into numpy arrays.\u001b[39;00m\n\u001b[0;32m     57\u001b[0m \n\u001b[0;32m     58\u001b[0m \u001b[38;5;124;03mIMPORTANT: non-linear geometry types (e.g., MultiSurface) are converted\u001b[39;00m\n\u001b[1;32m   (...)\u001b[0m\n\u001b[0;32m    191\u001b[0m \n\u001b[0;32m    192\u001b[0m \u001b[38;5;124;03m\"\"\"\u001b[39;00m\n\u001b[0;32m    194\u001b[0m dataset_kwargs \u001b[38;5;241m=\u001b[39m _preprocess_options_key_value(kwargs) \u001b[38;5;28;01mif\u001b[39;00m kwargs \u001b[38;5;28;01melse\u001b[39;00m {}\n\u001b[1;32m--> 196\u001b[0m \u001b[38;5;28;01mreturn\u001b[39;00m ogr_read(\n\u001b[0;32m    197\u001b[0m     get_vsi_path_or_buffer(path_or_buffer),\n\u001b[0;32m    198\u001b[0m     layer\u001b[38;5;241m=\u001b[39mlayer,\n\u001b[0;32m    199\u001b[0m     encoding\u001b[38;5;241m=\u001b[39mencoding,\n\u001b[0;32m    200\u001b[0m     columns\u001b[38;5;241m=\u001b[39mcolumns,\n\u001b[0;32m    201\u001b[0m     read_geometry\u001b[38;5;241m=\u001b[39mread_geometry,\n\u001b[0;32m    202\u001b[0m     force_2d\u001b[38;5;241m=\u001b[39mforce_2d,\n\u001b[0;32m    203\u001b[0m     skip_features\u001b[38;5;241m=\u001b[39mskip_features,\n\u001b[0;32m    204\u001b[0m     max_features\u001b[38;5;241m=\u001b[39mmax_features \u001b[38;5;129;01mor\u001b[39;00m \u001b[38;5;241m0\u001b[39m,\n\u001b[0;32m    205\u001b[0m     where\u001b[38;5;241m=\u001b[39mwhere,\n\u001b[0;32m    206\u001b[0m     bbox\u001b[38;5;241m=\u001b[39mbbox,\n\u001b[0;32m    207\u001b[0m     mask\u001b[38;5;241m=\u001b[39m_mask_to_wkb(mask),\n\u001b[0;32m    208\u001b[0m     fids\u001b[38;5;241m=\u001b[39mfids,\n\u001b[0;32m    209\u001b[0m     sql\u001b[38;5;241m=\u001b[39msql,\n\u001b[0;32m    210\u001b[0m     sql_dialect\u001b[38;5;241m=\u001b[39msql_dialect,\n\u001b[0;32m    211\u001b[0m     return_fids\u001b[38;5;241m=\u001b[39mreturn_fids,\n\u001b[0;32m    212\u001b[0m     dataset_kwargs\u001b[38;5;241m=\u001b[39mdataset_kwargs,\n\u001b[0;32m    213\u001b[0m     datetime_as_string\u001b[38;5;241m=\u001b[39mdatetime_as_string,\n\u001b[0;32m    214\u001b[0m )\n",
      "File \u001b[1;32m~\\anaconda3\\envs\\ASIES\\Lib\\site-packages\\pyogrio\\_io.pyx:1239\u001b[0m, in \u001b[0;36mpyogrio._io.ogr_read\u001b[1;34m()\u001b[0m\n",
      "File \u001b[1;32m~\\anaconda3\\envs\\ASIES\\Lib\\site-packages\\pyogrio\\_io.pyx:219\u001b[0m, in \u001b[0;36mpyogrio._io.ogr_open\u001b[1;34m()\u001b[0m\n",
      "\u001b[1;31mDataSourceError\u001b[0m: maps\\World_Countries\\World_Countries.shp: No such file or directory"
     ]
    }
   ],
   "source": [
    "#Se importa la base de datos de países\n",
    "!pip install geopandas\n",
    "import os, geopandas as gpd\n",
    "\n",
    "countries=gpd.read_file(os.path.join(\"maps\",\"World_Countries\",\"World_Countries.shp\"))"
   ]
  },
  {
   "cell_type": "code",
   "execution_count": 7,
   "id": "03460e33-5cef-463b-abf6-570724a5876c",
   "metadata": {},
   "outputs": [
    {
     "ename": "NameError",
     "evalue": "name 'countries' is not defined",
     "output_type": "error",
     "traceback": [
      "\u001b[1;31m---------------------------------------------------------------------------\u001b[0m",
      "\u001b[1;31mNameError\u001b[0m                                 Traceback (most recent call last)",
      "Cell \u001b[1;32mIn[7], line 1\u001b[0m\n\u001b[1;32m----> 1\u001b[0m \u001b[38;5;28mtype\u001b[39m(countries)\n",
      "\u001b[1;31mNameError\u001b[0m: name 'countries' is not defined"
     ]
    }
   ],
   "source": [
    "type(countries)"
   ]
  },
  {
   "cell_type": "code",
   "execution_count": 5,
   "id": "1322fb20-950f-4dcf-b9f2-0d2ffd74854d",
   "metadata": {},
   "outputs": [
    {
     "ename": "NameError",
     "evalue": "name 'countries' is not defined",
     "output_type": "error",
     "traceback": [
      "\u001b[1;31m---------------------------------------------------------------------------\u001b[0m",
      "\u001b[1;31mNameError\u001b[0m                                 Traceback (most recent call last)",
      "Cell \u001b[1;32mIn[5], line 1\u001b[0m\n\u001b[1;32m----> 1\u001b[0m countries\u001b[38;5;241m.\u001b[39mshape\n",
      "\u001b[1;31mNameError\u001b[0m: name 'countries' is not defined"
     ]
    }
   ],
   "source": [
    "# Se presenta el mapa de todos los países\n",
    "countries.plot(facecolor=\"yellow\",#este de acá es el relleno\n",
    "               edgecolor='black', #este de acá las líneas\n",
    "               linewidth=0.1) #grosor de las líneasb"
   ]
  },
  {
   "cell_type": "code",
   "execution_count": null,
   "id": "440dcdf0-fbb0-42fc-941f-793ec678fd83",
   "metadata": {},
   "outputs": [],
   "source": [
    "#Agregando las demás bases de datos...\n",
    "\n",
    "rivers=gpd.read_file(os.path.join(\"maps\",\"World_Hydrography\",\"World_Hydrography.shp\"))\n",
    "cities=gpd.read_file(os.path.join(\"maps\",\"World_Cities\",\"World_Cities.shp\"))"
   ]
  },
  {
   "cell_type": "code",
   "execution_count": null,
   "id": "c065a7e4-8217-4b3a-8eb8-0b549e6748a7",
   "metadata": {},
   "outputs": [],
   "source": [
    "#Se grafican las ciudades:\n",
    "cities.plot(marker='.',\n",
    "            color='brown',\n",
    "            markersize=1,\n",
    "            alpha=0.3) "
   ]
  },
  {
   "cell_type": "code",
   "execution_count": null,
   "id": "c1bf4057-dda0-4486-998b-75c3f76e40db",
   "metadata": {},
   "outputs": [],
   "source": [
    "#Se grafican los rios\n",
    "rivers.plot(edgecolor='red',\n",
    "            linewidth=1,\n",
    "            linestyle='dotted')"
   ]
  },
  {
   "cell_type": "code",
   "execution_count": null,
   "id": "0296b24c-08e1-41e0-b603-c306ed301cbf",
   "metadata": {},
   "outputs": [],
   "source": [
    "#Para verificar la proyección:\n",
    "countries.crs==cities.crs==cities.crs"
   ]
  },
  {
   "cell_type": "code",
   "execution_count": null,
   "id": "3e9e22c3-8dd9-4415-ad6f-43ded00b7231",
   "metadata": {},
   "outputs": [],
   "source": [
    "#Presentación en conjunto:\n",
    "base = countries.plot(facecolor=\"white\",\n",
    "                      edgecolor='black',\n",
    "                      linewidth=0.1,\n",
    "                      figsize=(12,12))\n",
    "\n",
    "rivers.plot(edgecolor='red', linewidth=0.4,\n",
    "            ax=base)\n",
    "cities.plot(marker='.', color='brown', markersize=1,alpha=0.7,\n",
    "            ax=base)"
   ]
  },
  {
   "cell_type": "code",
   "execution_count": null,
   "id": "3f285da3-dff1-461f-94ac-a8da568ee5d7",
   "metadata": {},
   "outputs": [],
   "source": [
    "countries.to_file(os.path.join(\"maps\",\"worldMap.gpkg\"),layer='countryBorders', driver=\"GPKG\")\n",
    "rivers.to_file(os.path.join(\"maps\",\"worldMap.gpkg\"),layer='riverLines', driver=\"GPKG\")\n",
    "cities.to_file(os.path.join(\"maps\",\"worldMap.gpkg\"),layer='cityPoints', driver=\"GPKG\")"
   ]
  },
  {
   "cell_type": "code",
   "execution_count": null,
   "id": "4c919ea5-037d-4a65-a3d8-c32d5ef6b5e5",
   "metadata": {},
   "outputs": [],
   "source": [
    "#Presentando el ejemplo de Brasil:\n",
    "venezuela=countries[countries.COUNTRY=='Venezuela']"
   ]
  },
  {
   "cell_type": "code",
   "execution_count": null,
   "id": "7a0ed32b-4052-42cf-b1f8-2f81c0f84b50",
   "metadata": {},
   "outputs": [],
   "source": [
    "citiesVenezuela_clipped = gpd.clip(gdf=cities,\n",
    "                          mask=venezuela)\n",
    "riversVenezuela_clipped = gpd.clip(gdf=rivers,\n",
    "                               mask=venezuela)"
   ]
  },
  {
   "cell_type": "code",
   "execution_count": null,
   "id": "35697451-40c1-4ce9-8b98-db7d115e4868",
   "metadata": {},
   "outputs": [],
   "source": [
    "#Ploteamos\n",
    "base = venezuela.plot(facecolor=\"green\", edgecolor='black', linewidth=0.4,figsize=(5,5))\n",
    "citiesVenezuela_clipped.plot(marker='+', color='red', markersize=15,\n",
    "                    ax=base)\n",
    "riversVenezuela_clipped.plot(edgecolor='blue', linewidth=0.5,\n",
    "                    ax=base)"
   ]
  },
  {
   "cell_type": "code",
   "execution_count": 9,
   "id": "b0e55294-0d4b-4912-93f2-053be2921361",
   "metadata": {},
   "outputs": [
    {
     "ename": "NameError",
     "evalue": "name 'canada' is not defined",
     "output_type": "error",
     "traceback": [
      "\u001b[1;31m---------------------------------------------------------------------------\u001b[0m",
      "\u001b[1;31mNameError\u001b[0m                                 Traceback (most recent call last)",
      "Cell \u001b[1;32mIn[9], line 2\u001b[0m\n\u001b[0;32m      1\u001b[0m \u001b[38;5;66;03m#chequeando los tipos:\u001b[39;00m\n\u001b[1;32m----> 2\u001b[0m canada\u001b[38;5;241m.\u001b[39mgeom_type\n",
      "\u001b[1;31mNameError\u001b[0m: name 'canada' is not defined"
     ]
    }
   ],
   "source": [
    "#chequeando los tipos:\n",
    "venezuela.geom_type"
   ]
  },
  {
   "cell_type": "code",
   "execution_count": null,
   "id": "02cb4ffb-4a30-4485-976c-f5da9588dfd0",
   "metadata": {},
   "outputs": [],
   "source": [
    "citiesVenezuela_clipped.geom_type"
   ]
  },
  {
   "cell_type": "code",
   "execution_count": null,
   "id": "4f24e56b-b605-4146-a911-c68acf96d1ab",
   "metadata": {},
   "outputs": [],
   "source": [
    "riversVenezuela_clipped.geom_type"
   ]
  },
  {
   "cell_type": "code",
   "execution_count": null,
   "id": "4827888e-0bfd-476b-87d5-ba5561405951",
   "metadata": {},
   "outputs": [],
   "source": [
    "Proyección del mapa\n",
    "print(venezuela.crs) "
   ]
  },
  {
   "cell_type": "code",
   "execution_count": null,
   "id": "50da2d1d-6ce6-4df6-9e18-b5d1d3d2ecc1",
   "metadata": {},
   "outputs": [],
   "source": [
    "venezuela.crs.axis_info\n",
    "#ante la presencia de longitud y latitud, hay que reproyectar."
   ]
  },
  {
   "cell_type": "code",
   "execution_count": null,
   "id": "68baae83-70a6-4dd3-b575-8ece384a050f",
   "metadata": {},
   "outputs": [],
   "source": [
    "venezuela.to_crs(9804).crs.axis_info"
   ]
  },
  {
   "cell_type": "code",
   "execution_count": null,
   "id": "b4a7c8ab-595d-4379-9b5f-710af81e0f6e",
   "metadata": {},
   "outputs": [],
   "source": [
    "venezuela.to_crs(9804).centroid"
   ]
  },
  {
   "cell_type": "code",
   "execution_count": null,
   "id": "f3c6d721-d99a-4929-9a62-9ea5bcd08d6b",
   "metadata": {},
   "outputs": [],
   "source": [
    "#replot\n",
    "base9804=venezuela.to_crs(9804).plot()\n",
    "venezuela.to_crs(9804).centroid.plot(color='red',ax=base9804)"
   ]
  },
  {
   "cell_type": "code",
   "execution_count": null,
   "id": "b87a27f6-d355-412f-8763-f9e44e15b448",
   "metadata": {},
   "outputs": [],
   "source": [
    "venezuela_9804=venezuela.to_crs(9804)\n",
    "cities_venezuela_9804=citiesVenezuela_clipped.to_crs(venezuela_9804.crs)\n",
    "rivers_venezuela_9804=riversVenezuela_clipped.to_crs(venezuela_9804.crs)"
   ]
  },
  {
   "cell_type": "code",
   "execution_count": null,
   "id": "2532c482-9d36-4904-b362-3aeaf6959845",
   "metadata": {},
   "outputs": [],
   "source": [
    "import os\n",
    "\n",
    "venezuela_9804.to_file(os.path.join(\"maps\",\"venezuelaMaps_9804.gpkg\"), layer='country', driver=\"GPKG\")\n",
    "cities_venezuela_9804.to_file(os.path.join(\"maps\",\"venezuelaMaps_9804.gpkg\"), layer='cities', driver=\"GPKG\")\n",
    "rivers_venezuela_9804.to_file(os.path.join(\"maps\",\"venezuelaMaps_9804.gpkg\"), layer='rivers', driver=\"GPKG\")"
   ]
  },
  {
   "cell_type": "code",
   "execution_count": null,
   "id": "5ddcfefd-0e90-4b5f-8312-03b742ad9cc5",
   "metadata": {},
   "outputs": [],
   "source": [
    "#comprobando el centroide:\n",
    "venzuela_9804.centroid.to_file(os.path.join(\"maps\",\"venezuelaMaps_9804.gpkg\"), layer='centroid', driver=\"GPKG\")"
   ]
  },
  {
   "cell_type": "code",
   "execution_count": null,
   "id": "792e7467-f059-4a68-81a5-5f6140c32668",
   "metadata": {},
   "outputs": [],
   "source": [
    "import pandas as pd\n",
    "infoairports=pd.read_csv(os.path.join(\"airports\",\"ca-airports.csv\"))\n",
    "infoairports.iloc[[0,1,2,3,-4,-3,-2,-1],:] "
   ]
  },
  {
   "cell_type": "code",
   "execution_count": null,
   "id": "8a5695f5-d096-49ba-b536-1a7d2d3fde84",
   "metadata": {},
   "outputs": [],
   "source": [
    "#eliminar la primera linea es necesario:\n",
    "infoairports.drop(index=0,inplace=True)\n",
    "infoairports.reset_index(drop=True, inplace=True)\n",
    "infoairports.head()"
   ]
  },
  {
   "cell_type": "code",
   "execution_count": null,
   "id": "ffbecaa2-b842-48fb-8bd3-453c0bfb1449",
   "metadata": {},
   "outputs": [],
   "source": [
    "keep=['name','type','latitude_deg', 'longitude_deg','elevation_ft','region_name','municipality']\n",
    "infoairports=infoairports.loc[:,keep]\n",
    "infoairports.info()"
   ]
  },
  {
   "cell_type": "code",
   "execution_count": null,
   "id": "fdeae058-2cf4-4855-8cf1-0f8884561807",
   "metadata": {},
   "outputs": [],
   "source": [
    "numericCols=['latitude_deg', 'longitude_deg','elevation_ft']\n",
    "infoairports[numericCols]=infoairports.loc[:,numericCols].apply(lambda x:pd.to_numeric(x))"
   ]
  },
  {
   "cell_type": "code",
   "execution_count": null,
   "id": "3c65b274-ee88-4cbe-87e3-0c7c03e688f3",
   "metadata": {},
   "outputs": [],
   "source": [
    "infoairports.info()"
   ]
  },
  {
   "cell_type": "code",
   "execution_count": null,
   "id": "d15e6d29-c4d5-41bf-bc41-b0a299dfe842",
   "metadata": {},
   "outputs": [],
   "source": [
    "airports_9804=airports.to_crs(9804)\n",
    "\n",
    "base = venezuela_9804.plot(color='white', edgecolor='black')\n",
    "airports_9804.plot(ax=base)"
   ]
  },
  {
   "cell_type": "code",
   "execution_count": null,
   "id": "a59e4ed8-b7a2-4cb4-9a77-46becbb5adad",
   "metadata": {},
   "outputs": [],
   "source": [
    "!pip install matplotlib\n",
    "import matplotlib.pyplot as plt\n",
    "fig, ax = plt.subplots(figsize=(10, 10))\n",
    "venezuela9804.plot(ax=ax, color='white', edgecolor='black') \n",
    "venezuela9804.plot(ax=ax, marker='o', color='blue', markersize=5) \n",
    "plt.title('Aeropuertos de Venezuela')\n",
    "plt.show()"
   ]
  },
  {
   "cell_type": "code",
   "execution_count": null,
   "id": "526b160e-d83f-4bfd-8830-1d27958f9182",
   "metadata": {},
   "outputs": [],
   "source": [
    "#CREAMOS EL MAPA DE LOS RIOS, CIUDADES Y AEROPUERTOS DE VENEZUELA.\n",
    "base = venezuela_9804.plot(color='white', edgecolor='black')\n",
    "\n",
    "airports_9804.plot(ax=base, color='green', markersize=5)\n",
    "\n",
    "cities_venezuela_9804.plot(marker='+', color='red', markersize=30, ax=base)\n",
    "\n",
    "rivers_venezuela_9804.plot(edgecolor='blue', linewidth=0.5, ax=base)"
   ]
  }
 ],
 "metadata": {
  "kernelspec": {
   "display_name": "Python 3 (ipykernel)",
   "language": "python",
   "name": "python3"
  },
  "language_info": {
   "codemirror_mode": {
    "name": "ipython",
    "version": 3
   },
   "file_extension": ".py",
   "mimetype": "text/x-python",
   "name": "python",
   "nbconvert_exporter": "python",
   "pygments_lexer": "ipython3",
   "version": "3.12.5"
  }
 },
 "nbformat": 4,
 "nbformat_minor": 5
}
